import pandas as pd
import numpy as np
import seaborn as sns
import matplotlib.pyplot as plt
import seaborn as sns
from sklearn.ensemble import RandomForestClassifier
from sklearn.model_selection import train_test_split
from sklearn.metrics import recall_score, f1_score, accuracy_score, precision_score, classification_report

import mlflow
from mlflow.tracking import MlflowClient

client = MlflowClient()
experiment = client.create_experiment("Titanic Survival")

mlflow.set_tracking_uri("http://127.0.0.1:5000")

mlflow.set_experiment(experiment_name="Titanic Survival")

mlflow.autolog()

train_data = pd.read_csv("tested.csv")

train_data.head()

train_data.tail()

train_data.isnull().any()

train_data.isnull().sum()

train_data.describe()

train_data.info()

train_data.columns

train_data.shape

train_data['Age'].fillna(train_data['Age'].mean(),inplace=True)

train_data['Embarked'].fillna(train_data['Embarked'].mode()[0], inplace=True)

plt.boxplot(train_data['SibSp'],vert=True)

sns.kdeplot(train_data["Survived"],color = 'green')

plt.subplots(figsize=(5,7))
ax=train_data['SibSp'].value_counts().plot.bar(width=0.9,color=sns.color_palette('inferno',20))
for p in ax.patches:
    ax.annotate(format(p.get_height()), (p.get_x()+0.25, p.get_height()+1))
plt.show()

train_data.drop(['Ticket', 'Cabin', 'Name', 'PassengerId'], axis=1, inplace=True)

train_data['Sex'] = train_data['Sex'].map({'male':0, 'female':1})
train_data['Embarked'] = train_data['Embarked'].map({'S':0, 'C': 1, 'Q': 2})

train_data.info()

X = train_data.drop(['Survived'], axis=1)
y = train_data.Survived

X_train, X_test, y_train, y_test = train_test_split(X, y, test_size=0.1, random_state=7, stratify=y)

rf = RandomForestClassifier(n_estimators=800, min_samples_split=6, random_state=7)

def model_metrics(model, train_X=X_train, val_X=X_test, train_y=y_train, val_y=y_test, show_metrics=True):
    model.fit(train_X, train_y)
    train_y_pred = model.predict(train_X)
    val_y_pred = model.predict(val_X)

    if show_metrics:
        print("val_y shape: ", val_y.shape)
        print("val_y_pred shape: ", val_y_pred.shape)
        
        print(model)
        print("Train Performance")
        print('-'*40)
        print(classification_report(train_y, train_y_pred, labels=[0, 1]))
        
        print("Test Performance")
        print('-'*40)
        print(classification_report(val_y, val_y_pred, labels=[0, 1]))
        
        print("Accuracy Score")
        print('-'*40)
        print(accuracy_score(val_y, val_y_pred))
        
        print("\nPrecision Score")
        print('-'*40)
        print(precision_score(val_y, val_y_pred, labels=[0, 1]))
        
        print("\nRecall Score")
        print('-'*40)
        print(recall_score(val_y, val_y_pred, labels=[0, 1]))
        
        print("\nF1 Score")
        print('-'*40)
        print(f1_score(val_y, val_y_pred, labels=[0, 1]))

model_metrics(rf)